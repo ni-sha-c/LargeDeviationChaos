{
 "cells": [
  {
   "cell_type": "markdown",
   "metadata": {},
   "source": [
    "# Shadowing Trajectories: Common or Rare?"
   ]
  },
  {
   "cell_type": "markdown",
   "metadata": {},
   "source": [
    "Here we compute shadowing trajectories for some simple 1D maps, namely:\n",
    "\n",
    "1. Sawtooth\n",
    "1. Cusp\n",
    "1. Logistic\n",
    "\n",
    "and plot their probability distributions. In case of the Logistic map, we don't expect the distribution to have a pdf. Our objective is to determine whether the shadowing trajectories for these maps can be considered typical, with \n",
    "respect to the SRB measure ( _ which exists in all three cases, since all 3 are Axiom-A systems_ ) of the corresponding systems. \n",
    "    \n",
    "    \n",
    "**Definition 1**(Continuous Type): A continuous type of a trajectory ${\\chi} := \\left\\{ x_i \\right\\}_{i=0}^{\\infty}$, denoted by $\\nu_{\\chi}$, is a probability measure such that, $\\nu_{\\chi} (A) \n",
    "= \\lim_{N \\to \\infty} \\frac{1}{N} \\sum_{i=1}^{N} I_A(x_i), \\;\\; \\forall \\;\\; A \\in \\mathbb{B}(\\mathbb{\\lambda})$,\n",
    "where $\\mathbb{\\lambda}$ is the attractor.\n",
    "    \n",
    "**Definition 2**($\\epsilon$-typicality): A trajectory ${\\chi} := \\left\\{ x_i \\right\\}_{i=0}^{\\infty}$ is considered to be $\\epsilon$-typical with respect to a probability measure $\\mu$ if \n",
    "${\\rm sup}_{A \\in \\mathbb{B}(\\mathbb{\\lambda})} |\\mu(A) - \\nu_{\\chi}(A)| < \\epsilon$ where $\\mu$ is the SRB measure on the attractor\n",
    "$\\mathbb{\\lambda}$ and $\\nu_\\chi$ is the continuous type of the trajectory $\\chi$."
   ]
  },
  {
   "cell_type": "markdown",
   "metadata": {},
   "source": [
    "### The Cusp Map\n",
    "\n",
    "The cusp map is given by:\n",
    "\n",
    "$$F_s(x) = 1 - s|2x-1| - (1-s)\\sqrt{|2x-1|} $$\n"
   ]
  },
  {
   "cell_type": "markdown",
   "metadata": {},
   "source": [
    "#### SRB pdf of the Cusp Map"
   ]
  },
  {
   "cell_type": "code",
   "execution_count": 31,
   "metadata": {},
   "outputs": [
    {
     "data": {
      "image/png": "[encoded data removed]",
      "text/plain": [
       "<matplotlib.figure.Figure at 0x7fdcf8e23ac8>"
      ]
     },
     "metadata": {},
     "output_type": "display_data"
    }
   ],
   "source": [
    "from pylab import *\n",
    "from numpy import *\n",
    "n_sample = 10000\n",
    "n_mc_iter = 10000\n",
    "n_bins = 200\n",
    "eps = 1.e-6\n",
    "x = random.rand(n_sample)\n",
    "x_trajectory = [x]\n",
    "s_values = [0.1,0.5,0.8]\n",
    "for s in s_values:\n",
    "    for i in range(n_mc_iter):\n",
    "        x = 1 - s*abs(2*x-1) - (1-s)*sqrt(abs(2*x-1)) + eps*sin(2*pi*x)\n",
    "        x_trajectory.append(x)\n",
    "    traj, _ = histogram(ravel(x_trajectory), linspace(0,1,n_bins+1), normed=True)\n",
    "    bar(linspace(0,1,n_bins),traj,width=1/n_bins)\n",
    "legend([s_values[0],s_values[1],s_values[2]])\n",
    "show()"
   ]
  },
  {
   "cell_type": "code",
   "execution_count": 1,
   "metadata": {},
   "outputs": [
    {
     "data": {
      "text/plain": [
       "<matplotlib.figure.Figure at 0x7f4e6fa34b00>"
      ]
     },
     "metadata": {},
     "output_type": "display_data"
    },
    {
     "data": {
      "image/png": "[encoded data removed]",
      "text/plain": [
       "<matplotlib.figure.Figure at 0x7f4e8c72fef0>"
      ]
     },
     "metadata": {},
     "output_type": "display_data"
    },
    {
     "data": {
      "image/png": "[encoded data removed]",
      "text/plain": [
       "<matplotlib.figure.Figure at 0x7f4e8f6212e8>"
      ]
     },
     "metadata": {},
     "output_type": "display_data"
    }
   ],
   "source": [
    "%matplotlib inline\n",
    "import matplotlib.pyplot as plt\n",
    "#matplotlib.use('Agg')\n",
    "from pylab import *\n",
    "from numpy import *\n",
    "from IPython import display\n",
    "import time\n",
    "m = -0.005\n",
    "s = 0.3\n",
    "n = 100000\n",
    "x = zeros([n, 100])\n",
    "x[0,:] = rand(100)\n",
    "plt.figure()\n",
    "plt.ion()\n",
    "for i in range(1,n):\n",
    "    pL = x[i-1,:]\n",
    "    pM = 0.5 - x[i-1,:]\n",
    "    pR = x[i-1,:] - 1\n",
    "    p = 4 * m * minimum(pL, maximum(pM, pR))\n",
    "    x[i,:] = 1 - s*abs(2.0*x[i-1,:]-1.0) - (1-s)*sqrt(abs(2.0*x[i-1,:]-1.0)) + p\n",
    " #   plt.plot(i,x[i,1],'b*-',i,(2.0*x[i-1,1])%1,'ro')\n",
    " #   display.clear_output(wait=True)\n",
    "  #  plt.xlim([0,n])\n",
    "  #  plt.ylim([0,1])\n",
    "   # display.display(plt.gcf())\n",
    "   # time.sleep(1.0)\n",
    "y = copy(x)    \n",
    "maxres = -10.e0\n",
    "for i in range(n-1,0,-1):\n",
    "    residual = x[i,:] - (1 - s*abs(2.0*x[i-1,:]-1.0) - (1-s)*sqrt(abs(2.0*x[i-1,:]-1.0)))\n",
    "    #Minimum image convention\n",
    "    residual[residual>0.5] -= 1\n",
    "    if(max(residual)>maxres):\n",
    "        maxres = max(residual)\n",
    "    x[i-1,:] += residual / 2\n",
    "    x[i-1,x[i-1,:] < 0] += 1\n",
    "    x[i-1,x[i-1,:] > 1] -= 1\n",
    "\n",
    "N = 1024\n",
    "h, _ = histogram(ravel(y), linspace(0,1,N+1), normed=True)\n",
    "\n",
    "figure()\n",
    "bar(linspace(0,1,N+1)[:-1], h, 1./N)\n",
    "xlabel('x')\n",
    "ylabel(r'$\\rho_{\\rm true}$')\n",
    "xlim([0,1])\n",
    "ylim([0.0,2.1])\n",
    "show()\n",
    "\n",
    "h, _ = histogram(ravel(x), linspace(0,1,N+1), normed=True)\n",
    "\n",
    "figure()\n",
    "bar(linspace(0,1,N+1)[:-1], h, 1./N)\n",
    "xlabel('x')\n",
    "ylabel(r'$\\rho_{\\rm shadow}$')\n",
    "xlim([0,1])\n",
    "ylim([0.0,2.1])\n",
    "show()\n"
   ]
  },
  {
   "cell_type": "code",
   "execution_count": 9,
   "metadata": {},
   "outputs": [
    {
     "data": {
      "text/plain": [
       "0.003448012442840126"
      ]
     },
     "execution_count": 9,
     "metadata": {},
     "output_type": "execute_result"
    }
   ],
   "source": [
    "max(abs(ravel(x)-ravel(y)))q"
   ]
  }
 ],
 "metadata": {
  "kernelspec": {
   "display_name": "Python 3",
   "language": "python",
   "name": "python3"
  },
  "language_info": {
   "codemirror_mode": {
    "name": "ipython",
    "version": 3
   },
   "file_extension": ".py",
   "mimetype": "text/x-python",
   "name": "python",
   "nbconvert_exporter": "python",
   "pygments_lexer": "ipython3",
   "version": "3.6.0"
  }
 },
 "nbformat": 4,
 "nbformat_minor": 2
}
