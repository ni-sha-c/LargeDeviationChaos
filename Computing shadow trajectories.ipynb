{
 "cells": [
  {
   "cell_type": "markdown",
   "metadata": {},
   "source": [
    "# Compute Shadow Trajectory of an $\\alpha$-pseudo orbit of the Sawtooth Map"
   ]
  },
  {
   "cell_type": "code",
   "execution_count": null,
   "metadata": {
    "collapsed": true
   },
   "outputs": [],
   "source": [
    "%matplotlib inline\n",
    "from pylab import *\n",
    "from numpy import *\n",
    "from IPython import display\n",
    "import matplotlib\n",
    "import time\n",
    "tl = 100000\n",
    "x = ones(tl)\n",
    "x[0] = rand()\n",
    "s = -0.005\n",
    "for i in range(1,tl):\n",
    "    p = 4*s*minimum(x[i-1],maximum(0.5-x[i-1],x[i-1]-1))\n",
    "    x[i] = x[i-1]*2 % 1 + p\n"
   ]
  },
  {
   "cell_type": "code",
   "execution_count": null,
   "metadata": {},
   "outputs": [],
   "source": [
    "x\n",
    "y = copy(x)\n",
    "y"
   ]
  },
  {
   "cell_type": "code",
   "execution_count": null,
   "metadata": {},
   "outputs": [],
   "source": [
    "for i in range(tl-1,0,-1):\n",
    "    residual = x[i] - 2*x[i-1]%1 \n",
    "    residual = residual -1 if residual >0.5 else residual\n",
    "    x[i-1] += residual/2\n",
    "    #print(residual)\n",
    "    x[i-1] = x[i-1] + 1 if x[i-1] < 0 else x[i-1]\n",
    "    x[i-1] = x[i-1] - 1 if x[i-1] > 1 else x[i-1]\n",
    "    #display.display(gcf())\n",
    "    #time.sleep(1.0)\n",
    "    #xlim([0,10])\n",
    "    #ylim([0,1])"
   ]
  },
  {
   "cell_type": "markdown",
   "metadata": {},
   "source": [
    "##  Eyeball continuity of Shadowing trajectory wrt finite perturbation pseudoorbit\n"
   ]
  },
  {
   "cell_type": "code",
   "execution_count": 20,
   "metadata": {},
   "outputs": [
    {
     "data": {
      "image/png": "[encoded data removed]",
      "text/plain": [
       "<matplotlib.figure.Figure at 0x7f33aee79438>"
      ]
     },
     "metadata": {},
     "output_type": "display_data"
    }
   ],
   "source": [
    "%matplotlib inline\n",
    "from pylab import *\n",
    "from numpy import *\n",
    "from IPython import display\n",
    "import matplotlib\n",
    "import time\n",
    "tl = 50000\n",
    "x = ones(tl)\n",
    "x[0] = rand()\n",
    "sarr = np.array([0.0005,0.005,0.05,0.1,0.2])\n",
    "fig, ax = subplots()\n",
    "figsize=(200, 150)\n",
    "\n",
    "\n",
    "for s in sarr:\n",
    "    for i in range(1,tl):\n",
    "        p = 4*s*minimum(x[i-1],maximum(0.5-x[i-1],x[i-1]-1))\n",
    "        x[i] = x[i-1]*2 % 1 + p\n",
    "    y = copy(x)\n",
    "    for i in range(tl-1,0,-1):\n",
    "        residual = x[i] - 2*x[i-1]%1 \n",
    "        residual = residual -1 if residual >0.5 else residual\n",
    "        x[i-1] += residual/2\n",
    "        #print(residual)\n",
    "        x[i-1] = x[i-1] + 1 if x[i-1] < 0 else x[i-1]\n",
    "        x[i-1] = x[i-1] - 1 if x[i-1] > 1 else x[i-1]\n",
    "    \n",
    "    ax.plot(y,x,'o',linewidth=2.3)\n",
    "    ax.legend(['s=0.0005','s=0.005','s=0.05','s=0.1','s=0.2'])\n",
    "    ylabel('x')\n",
    "    xlabel('y')\n",
    "    xlim([0.6,0.8])\n",
    "    ylim([0.6,0.8])\n",
    "    \n",
    "savefig('continuity_zoomed1.eps', format='eps', dpi=1000)\n",
    "show()\n"
   ]
  }
 ],
 "metadata": {
  "kernelspec": {
   "display_name": "Python 3",
   "language": "python",
   "name": "python3"
  },
  "language_info": {
   "codemirror_mode": {
    "name": "ipython",
    "version": 3
   },
   "file_extension": ".py",
   "mimetype": "text/x-python",
   "name": "python",
   "nbconvert_exporter": "python",
   "pygments_lexer": "ipython3",
   "version": "3.6.1"
  }
 },
 "nbformat": 4,
 "nbformat_minor": 2
}
